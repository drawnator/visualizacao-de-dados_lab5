{
 "cells": [
  {
   "cell_type": "code",
   "execution_count": null,
   "metadata": {},
   "outputs": [],
   "source": [
    "import numpy as np\n",
    "import matplotlib.pyplot as plot\n",
    "import pandas as pd"
   ]
  },
  {
   "cell_type": "code",
   "execution_count": null,
   "metadata": {},
   "outputs": [],
   "source": [
    "data = pd.read_csv(\"ocorrencia.csv\",sep=\";\")#on_bad_lines='warn'"
   ]
  },
  {
   "cell_type": "code",
   "execution_count": null,
   "metadata": {},
   "outputs": [],
   "source": [
    "data.head()"
   ]
  },
  {
   "cell_type": "code",
   "execution_count": null,
   "metadata": {},
   "outputs": [],
   "source": [
    "data_position = data.loc[:,[\"ocorrencia_latitude\",\"ocorrencia_longitude\"]].dropna()\n",
    "data_position = data_position[data_position[\"ocorrencia_latitude\"].str.contains(\"\\*\")==False]\n",
    "data_position = data_position[data_position[\"ocorrencia_longitude\"].str.contains(\"\\*\")==False]\n",
    "data_position[\"ocorrencia_latitude\"] = data_position[\"ocorrencia_latitude\"].str.replace(\"\\\\t\",\"\")\n",
    "data_position[\"ocorrencia_longitude\"] = data_position[\"ocorrencia_longitude\"].str.replace(\"\\\\t\",\"\")\n",
    "data_position[\"ocorrencia_latitude\"] = data_position[\"ocorrencia_latitude\"].str.replace(\",\",\".\")\n",
    "data_position[\"ocorrencia_longitude\"] = data_position[\"ocorrencia_longitude\"].str.replace(\",\",\".\")\n",
    "data_position[\"ocorrencia_latitude\"] = data_position[\"ocorrencia_latitude\"].str.replace(\"--\",\"-\")\n",
    "data_position[\"ocorrencia_longitude\"] = data_position[\"ocorrencia_longitude\"].str.replace(\"--\",\"-\")\n",
    "data_position[\"ocorrencia_latitude\"] = data_position[\"ocorrencia_latitude\"].str.replace(\"-0\",\"-\")\n",
    "data_position[\"ocorrencia_longitude\"] = data_position[\"ocorrencia_longitude\"].str.replace(\"-0\",\"-\")\n",
    "data_position[\"ocorrencia_latitude\"] = data_position[\"ocorrencia_latitude\"].str.replace(\"°\",\"\")\n",
    "data_position[\"ocorrencia_longitude\"] = data_position[\"ocorrencia_longitude\"].str.replace(\"°\",\"\")\n",
    "data_position[\"ocorrencia_latitude\"] = data_position[\"ocorrencia_latitude\"].str.strip(\"0\")\n",
    "data_position[\"ocorrencia_longitude\"] = data_position[\"ocorrencia_longitude\"].str.strip(\"0\")\n",
    "data_position[\"ocorrencia_latitude\"] = data_position[\"ocorrencia_latitude\"].str.replace(\" \",\"\")\n",
    "data_position[\"ocorrencia_longitude\"] = data_position[\"ocorrencia_longitude\"].str.replace(\" \",\"\")"
   ]
  },
  {
   "cell_type": "code",
   "execution_count": null,
   "metadata": {},
   "outputs": [],
   "source": [
    "def remove_extra_dots(text):\n",
    "  \"\"\"Removes all dots except the first one.\"\"\"\n",
    "  if \".\" in text:\n",
    "    first_dot_index = text.index(\".\")\n",
    "    text_after_first_dot = text[first_dot_index + 1:]\n",
    "    text_after_first_dot_without_dots = text_after_first_dot.replace(\".\", \"\")\n",
    "    return text[:first_dot_index + 1] + text_after_first_dot_without_dots\n",
    "  else:\n",
    "    return text\n",
    "\n",
    "data_position[\"ocorrencia_latitude\"] = data_position[\"ocorrencia_latitude\"].apply(remove_extra_dots)\n",
    "data_position[\"ocorrencia_longitude\"] = data_position[\"ocorrencia_longitude\"].apply(remove_extra_dots)"
   ]
  },
  {
   "cell_type": "code",
   "execution_count": null,
   "metadata": {},
   "outputs": [],
   "source": [
    "data_position = data_position[data_position[\"ocorrencia_latitude\"]!=\"\"]\n",
    "data_position = data_position[data_position[\"ocorrencia_longitude\"]!=\"\"]"
   ]
  },
  {
   "cell_type": "code",
   "execution_count": null,
   "metadata": {},
   "outputs": [],
   "source": [
    "data_position.head()"
   ]
  },
  {
   "cell_type": "code",
   "execution_count": null,
   "metadata": {},
   "outputs": [],
   "source": [
    "data_position.sort_values(\"ocorrencia_longitude\")"
   ]
  },
  {
   "cell_type": "code",
   "execution_count": null,
   "metadata": {},
   "outputs": [],
   "source": [
    "#final string\n",
    "s = \"[\"\n",
    "for index, row in data_position.iterrows():\n",
    "    lat = row[\"ocorrencia_latitude\"]\n",
    "    long = row[\"ocorrencia_longitude\"]\n",
    "    si = f\"[{lat},{long}],\"\n",
    "    s += si\n",
    "s += \"\\b]\"\n",
    "print(s)"
   ]
  },
  {
   "cell_type": "code",
   "execution_count": null,
   "metadata": {},
   "outputs": [],
   "source": [
    "data_position[data_position[\"ocorrencia_latitude\"]==\"\"].count()"
   ]
  },
  {
   "cell_type": "markdown",
   "metadata": {},
   "source": [
    "https://github.com/giuliano-macedo/geodata-br-states/blob/main/geojson/br_states.json"
   ]
  }
 ],
 "metadata": {
  "kernelspec": {
   "display_name": "dataviz",
   "language": "python",
   "name": "python3"
  },
  "language_info": {
   "codemirror_mode": {
    "name": "ipython",
    "version": 3
   },
   "file_extension": ".py",
   "mimetype": "text/x-python",
   "name": "python",
   "nbconvert_exporter": "python",
   "pygments_lexer": "ipython3",
   "version": "3.11.11"
  }
 },
 "nbformat": 4,
 "nbformat_minor": 2
}
